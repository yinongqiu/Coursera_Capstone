{
    "cells": [
        {
            "metadata": {
                "collapsed": true
            },
            "cell_type": "markdown",
            "source": "# Report"
        },
        {
            "metadata": {},
            "cell_type": "markdown",
            "source": "## 1. Introduction"
        },
        {
            "metadata": {},
            "cell_type": "markdown",
            "source": "#### ABC is a Toronto-based event organization that is currently hosting a 7-day event for photographers from around the world. "
        },
        {
            "metadata": {},
            "cell_type": "markdown",
            "source": "#### Businesses need to make a good plan, including hotels, meeting rooms, scenic spots, shops, restaurants and cafes. The company must list Toronto's attractions, including the closest restaurants, cafes, and shops at each location, and must provide maps in case the photographer is unable to use its mobile app for any reason."
        },
        {
            "metadata": {},
            "cell_type": "markdown",
            "source": "## 2. Data Description"
        },
        {
            "metadata": {},
            "cell_type": "markdown",
            "source": "#### The data used in this project is provided by Foursquare location data. The data is grouped by landscape area, and each area includes information about the area and all information about restaurants, cafes, and shops in the area."
        },
        {
            "metadata": {},
            "cell_type": "code",
            "source": "",
            "execution_count": null,
            "outputs": []
        }
    ],
    "metadata": {
        "kernelspec": {
            "name": "python3",
            "display_name": "Python 3.6",
            "language": "python"
        },
        "language_info": {
            "name": "python",
            "version": "3.6.9",
            "mimetype": "text/x-python",
            "codemirror_mode": {
                "name": "ipython",
                "version": 3
            },
            "pygments_lexer": "ipython3",
            "nbconvert_exporter": "python",
            "file_extension": ".py"
        }
    },
    "nbformat": 4,
    "nbformat_minor": 1
}